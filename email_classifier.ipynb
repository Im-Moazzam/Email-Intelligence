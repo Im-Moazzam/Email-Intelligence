{
 "cells": [
  {
   "cell_type": "code",
   "execution_count": 2,
   "id": "278af517",
   "metadata": {},
   "outputs": [],
   "source": [
    "from langchain_ollama import OllamaLLM\n",
    "from langchain.prompts import PromptTemplate"
   ]
  },
  {
   "cell_type": "code",
   "execution_count": 3,
   "id": "343fa594",
   "metadata": {},
   "outputs": [],
   "source": [
    "template = \"\"\"\n",
    "You are an assistant that classifies emails for the CEO.\n",
    "\n",
    "Analyze the following email and return a JSON with the fields:\n",
    "- concern: \"Y\" or \"N\" \n",
    "  (Mark as \"Y\" if the email contains urgent matters, financial/legal issues, executive decisions required, \n",
    "   OR if it expresses dissatisfaction, complaints, or any negative sentiment such as 'not happy', 'not good', 'not satisfied', 'unacceptable', etc.)\n",
    "- category: one of [\"urgency\", \"financial\", \"legal\", \"Executive Decisions Required\", \"negative feedback\"]\n",
    "- urgency_level: 1 (lowest urgency) to 5 (highest urgency)\n",
    "- requires_attention: \"Y\" or \"N\" (Mark \"Y\" if the CEO should personally act on this or if it’s a serious negative sentiment from a key stakeholder)\n",
    "\n",
    "Email content:\n",
    "{email}\n",
    "\n",
    "Respond ONLY with valid JSON and nothing else.\n",
    "\"\"\"\n",
    "\n",
    "prompt = PromptTemplate(template=template, input_variables=[\"email\"])"
   ]
  },
  {
   "cell_type": "code",
   "execution_count": 4,
   "id": "cc39c14c",
   "metadata": {},
   "outputs": [],
   "source": [
    "llm = OllamaLLM(model=\"llama3:latest\")\n",
    "# llm = OllamaLLM(model=\"mistral:latest\")\n",
    "\n",
    "chain = prompt | llm"
   ]
  },
  {
   "cell_type": "code",
   "execution_count": 15,
   "id": "a1956e74",
   "metadata": {},
   "outputs": [],
   "source": [
    "email_text = \"\"\"Subject: Urgent: Payment Dispute from BlueCross – Immediate Action Required\n",
    "\n",
    "Body:\n",
    "\n",
    "Dear Mr. Khan,\n",
    "\n",
    "We have received a formal notice from BlueCross BlueShield regarding a payment dispute for claims submitted in July 2025 under account #BCS-8721. They allege that several high-value claims for cardiology procedures were incorrectly coded, resulting in overpayment of approximately $58,000.\n",
    "\n",
    "The payer has requested a response and supporting documentation within 5 business days to avoid withholding payments on future claims. This matter may have legal and financial implications if not addressed promptly.\n",
    "\n",
    "Please advise if you would like our compliance and legal teams to coordinate an immediate review.\n",
    "\n",
    "Regards,\n",
    "Sarah Whitmore\n",
    "Director of Revenue Cycle Management\n",
    "MedSync Billing Solutions\n",
    "\"\"\""
   ]
  },
  {
   "cell_type": "code",
   "execution_count": 16,
   "id": "e4f1b3cd",
   "metadata": {},
   "outputs": [],
   "source": [
    "result = chain.invoke({\"email\": email_text})\n"
   ]
  },
  {
   "cell_type": "code",
   "execution_count": 19,
   "id": "c25e1f35",
   "metadata": {},
   "outputs": [
    {
     "name": "stdout",
     "output_type": "stream",
     "text": [
      "{\n",
      "\"concern\": \"Y\",\n",
      "\"category\": \"financial\",\n",
      "\"urgency_level\": 5,\n",
      "\"requires_attention\": \"Y\"\n",
      "}\n"
     ]
    }
   ],
   "source": [
    "print(result)"
   ]
  },
  {
   "cell_type": "code",
   "execution_count": 6,
   "id": "15498fbe",
   "metadata": {},
   "outputs": [],
   "source": [
    "emails = [\n",
    "    {\n",
    "        \"subject\": \"Appreciate the quick turnaround\",\n",
    "        \"body\": \"\"\"Hi CEO,\n",
    "I just wanted to say thank you for approving the budget so quickly. \n",
    "The team is really motivated and we’re on track for the launch next month.\"\"\"\n",
    "    },\n",
    "    {\n",
    "        \"subject\": \"Our recent service experience has been underwhelming\",\n",
    "        \"body\": \"\"\"Dear CEO,\n",
    "While I value our partnership, I have to be honest — the last shipment was delayed, \n",
    "and the support team didn’t provide clear answers. This has been disappointing \n",
    "given our long-standing relationship.\"\"\"\n",
    "    },\n",
    "    {\n",
    "        \"subject\": \"Morale is slipping in the product team\",\n",
    "        \"body\": \"\"\"Hi,\n",
    "Several team members have expressed frustration about the unclear direction \n",
    "on the new feature rollout. People are feeling discouraged, and productivity \n",
    "is starting to dip.\"\"\"\n",
    "    },\n",
    "    {\n",
    "        \"subject\": \"Unexpected variance in Q2 revenue forecast\",\n",
    "        \"body\": \"\"\"Hello,\n",
    "The finance team identified a $250k gap in projected revenue for Q2 due to lower \n",
    "than expected renewals. This doesn’t require immediate action today, but we should \n",
    "discuss mitigation strategies next week.\"\"\"\n",
    "    },\n",
    "    {\n",
    "        \"subject\": \"Time-sensitive: Potential trademark infringement claim\",\n",
    "        \"body\": \"\"\"CEO,\n",
    "We’ve received a notice from a competitor alleging that our latest branding \n",
    "may infringe on their registered mark. Our legal counsel suggests responding \n",
    "within 5 business days.\"\"\"\n",
    "    },\n",
    "    {\n",
    "        \"subject\": \"Not quite what we had envisioned\",\n",
    "        \"body\": \"\"\"Dear CEO,\n",
    "The final product demo didn’t fully align with what was outlined in our \n",
    "initial agreement. We’ll need to revisit certain aspects to ensure \n",
    "they meet expectations.\"\"\"\n",
    "    },\n",
    "    {\n",
    "        \"subject\": \"Approval needed: Partnership with CloudNext\",\n",
    "        \"body\": \"\"\"Hi,\n",
    "We have an opportunity to partner with CloudNext on a co-marketing campaign. \n",
    "The deal looks good, but it requires your final sign-off before we proceed.\"\"\"\n",
    "    },\n",
    "    {\n",
    "        \"subject\": \"Service quality has noticeably dropped\",\n",
    "        \"body\": \"\"\"Hello,\n",
    "Over the last two months, the level of attention and follow-up from your team \n",
    "has been inconsistent. I’m concerned this is becoming the new normal, \n",
    "which could affect our decision to renew the contract.\"\"\"\n",
    "    }\n",
    "]\n"
   ]
  },
  {
   "cell_type": "code",
   "execution_count": 7,
   "id": "fd054b83",
   "metadata": {},
   "outputs": [
    {
     "name": "stdout",
     "output_type": "stream",
     "text": [
      "{\n",
      "\"concern\": \"N\",\n",
      "\"category\": \"none\",\n",
      "\"urgency_level\": 1,\n",
      "\"requires_attention\": \"N\"\n",
      "}\n",
      "{\n",
      "  \"concern\": \"Y\",\n",
      "  \"category\": \"negative feedback\",\n",
      "  \"urgency_level\": 3,\n",
      "  \"requires_attention\": \"Y\"\n",
      "}\n",
      "{\n",
      "\"concern\": \"Y\",\n",
      "\"category\": \"negative feedback\",\n",
      "\"urgency_level\": 3,\n",
      "\"requires_attention\": \"Y\"\n",
      "}\n",
      "{\n",
      "\"concern\": \"Y\",\n",
      "\"category\": \"financial\",\n",
      "\"urgency_level\": 3,\n",
      "\"requires_attention\": \"N\"\n",
      "}\n",
      "{\n",
      "\"concern\": \"Y\",\n",
      "\"category\": \"legal\",\n",
      "\"urgency_level\": 4,\n",
      "\"requires_attention\": \"Y\"\n",
      "}\n",
      "{\n",
      "\"concern\": \"Y\",\n",
      "\"category\": \"negative feedback\",\n",
      "\"urgency_level\": 3,\n",
      "\"requires_attention\": \"N\"\n",
      "}\n",
      "{\n",
      "\"concern\": \"N\",\n",
      "\"category\": \"urgency\",\n",
      "\"urgency_level\": 2,\n",
      "\"requires_attention\": \"N\"\n",
      "}\n",
      "{\n",
      "\"concern\": \"Y\",\n",
      "\"category\": \"negative feedback\",\n",
      "\"urgency_level\": 3,\n",
      "\"requires_attention\": \"Y\"\n",
      "}\n"
     ]
    }
   ],
   "source": [
    "for email in emails:\n",
    "    result = chain.invoke({\"email\": email['subject'] + email['body']})\n",
    "    print(result)"
   ]
  },
  {
   "cell_type": "code",
   "execution_count": 34,
   "id": "bcd3800f",
   "metadata": {},
   "outputs": [
    {
     "name": "stdout",
     "output_type": "stream",
     "text": [
      "['Subject: Dress Code for 14th August Celebration\\nFrom: Human Resources <hrd@docsmedicalbilling.com>\\nDate: Tue, 12 Aug 2025 01:46:05 +0400\\n\\nBody:\\nBCC: All ConcernsDear Team,As part of our 14th August celebration on Wednesday, we kindly request all employees to follow the specified theme attire to make the event more vibrant and unified.Male employees:&nbsp;Please wear a white salwar kameez or a white shirt along with cotton pants/jeans.Female employees:&nbsp;Please follow the white and green attire theme.This dress code is mandatory&nbsp;for everyone, as we will be having a group photo shoot on Wednesday to commemorate the celebration.Your cooperation is highly appreciated to make this event memorable.Thank you and looking forward to your enthusiastic participation!Regards, &nbsp; &nbsp; &nbsp;&nbsp;Human Resources Department&nbsp;Docs Medical Billing LLC.&nbsp;email: hrd@docsmedicalbilling.comphone: +1 (559) 330-1413Website: www.docsmedicalbilling.com&nbsp;WARNING: CONFIDENTIALITY NOTICE – The information enclosed with this transmission are the private, confidential property of the sender, and the material is privileged communication intended solely for the individual indicated. If you are not the intended recipient, you are notified that any review, disclosure, copying, distribution, or the taking of any other action relevant to the contents of this transmission are strictly prohibited. If you have received this transmission in error, please notify us immediately at info@docsmedicalbilling.com&nbsp;', 'Subject: Display of Employee ID Cards & Cooperation with Security Guard\\nFrom: Human Resources <hrd@docsmedicalbilling.com>\\nDate: Fri, 8 Aug 2025 19:43:48 +0400\\n\\nBody:\\nBCC: All ConcernsDear Team,This is a reminder that all employees are required to wear their employee ID cards visibly&nbsp;while on company premises at all times. This is a standard security protocol and is essential for ensuring a safe and secure work environment for everyone.Please cooperate fully if security guard asks to see your employee ID. It is part of their official job responsibilities&nbsp;to verify identification, and they are acting in the interest of everyone’s safety.We want to emphasize that no form of disrespect or misconduct towards the security staff will be tolerated under any circumstances. Everyone deserves to be treated with professionalism and courtesy, regardless of their role.Let’s work together to maintain a respectful and secure workplace.Thank you for your cooperation!Regards, &nbsp; &nbsp; &nbsp; &nbsp;&nbsp;Human Resources Department&nbsp;Docs Medical Billing LLC.&nbsp;email: hrd@docsmedicalbilling.comphone: +1 (559) 330-1413Website: www.docsmedicalbilling.com&nbsp;WARNING: CONFIDENTIALITY NOTICE – The information enclosed with this transmission are the private, confidential property of the sender, and the material is privileged communication intended solely for the individual indicated. If you are not the intended recipient, you are notified that any review, disclosure, copying, distribution, or the taking of any other action relevant to the contents of this transmission are strictly prohibited. If you have received this transmission in error, please notify us immediately at info@docsmedicalbilling.com&nbsp;', 'Subject: Strict Adherence to Dress Code Policy\\nFrom: Human Resources <hrd@docsmedicalbilling.com>\\nDate: Thu, 7 Aug 2025 21:44:35 +0400\\n\\nBody:\\nBCC: All ConcernsDear Team,Hope you are doing well.This is a reminder to all employees to strictly adhere to the company’s dress code policy. While we have allowed certain relaxations in the past, please note that effective Monday, 11 August 2025, any breach of the dress code policy will result in a penalty of Rs 250.Note:&nbsp;No exceptions will be made regarding this policy.If you have any questions or require clarity about the dress code policy, you are encouraged to visit the HR department for a detailed explanation.Thank you for your cooperation and understanding!Regards, &nbsp; &nbsp; &nbsp;&nbsp;Human Resources Department&nbsp;Docs Medical Billing LLC.&nbsp;email: hrd@docsmedicalbilling.comphone: +1 (559) 330-1413Website: www.docsmedicalbilling.com&nbsp;WARNING: CONFIDENTIALITY NOTICE – The information enclosed with this transmission are the private, confidential property of the sender, and the material is privileged communication intended solely for the individual indicated. If you are not the intended recipient, you are notified that any review, disclosure, copying, distribution, or the taking of any other action relevant to the contents of this transmission are strictly prohibited. If you have received this transmission in error, please notify us immediately at info@docsmedicalbilling.com&nbsp;', 'Subject: Segregation of Monthly Fuel Entitlement\\nFrom: Human Resources <hrd@docsmedicalbilling.com>\\nDate: Fri, 1 Aug 2025 00:54:36 +0500\\n\\nBody:\\nBCC: All ConcernsDear All,Hope this email finds you well.To ensure better management and transparency of monthly fuel allocations, we are introducing a new structure for the segregation of fuel entitlements, effective from August 01 2025.Your monthly fuel entitlement will now be divided into the following three slabs:Sr. NoFuel Entitlement (Litres)First SlabSecond SlabThird Slab12510105230101010340151510450201515570302020First Slab:&nbsp;For the first 10 days of the month.Second Slab:&nbsp;From the 11th to the 20th of the month.Third Slab:&nbsp;From the 21st to the end of the month.This change aims to provide a more structured approach to fuel usage throughout the month.Note:&nbsp;Any unused fuel from one slab will carry over to the next slab. We encourage everyone to manage their fuel consumption accordingly.In case of any questions or require further clarification, feel free to reach out to the Human Resources department.Thank you for your cooperation!Regards,Human Resources Department&nbsp;Docs Medical Billing LLC.&nbsp;email: hrd@docsmedicalbilling.comphone: +1 (559) 330-1413Website: www.docsmedicalbilling.com&nbsp;WARNING: CONFIDENTIALITY NOTICE – The information enclosed with this transmission are the private, confidential property of the sender, and the material is privileged communication intended solely for the individual indicated. If you are not the intended recipient, you are notified that any review, disclosure, copying, distribution, or the taking of any other action relevant to the contents of this transmission are strictly prohibited. If you have received this transmission in error, please notify us immediately at info@docsmedicalbilling.com&nbsp;', \"Subject: [Hugging Face] Click this link to confirm your email address\\nFrom: huggingface <website@huggingface.co>\\nDate: Thu, 24 Jul 2025 12:14:09 +0000\\n\\nBody:\\nhtml { font-family: serif; font-size: 14px; } img { max-width: 100%; } blockquote { border-left: 3px solid #ccc; margin: 0 0; padding: 0 10px; } Confirm your email address by clicking on this link: https://huggingface.co/email_confirmation/KkUcrLujyZtgiwCunJwAfVpSMkSN If you didn't create a Hugging Face account, you can ignore this email. Hugging Face: The AI community building the future.\"]\n"
     ]
    }
   ],
   "source": [
    "import json\n",
    "\n",
    "with open(\"emails.json\", \"r\", encoding=\"utf-8\") as f:\n",
    "    emails_list = json.load(f)\n",
    "    \n",
    "print(emails_list)"
   ]
  },
  {
   "cell_type": "code",
   "execution_count": 37,
   "id": "fc2c194f",
   "metadata": {},
   "outputs": [
    {
     "data": {
      "text/plain": [
       "['Subject: Dress Code for 14th August Celebration\\nFrom: Human Resources <hrd@docsmedicalbilling.com>\\nDate: Tue, 12 Aug 2025 01:46:05 +0400\\n\\nBody:\\nBCC: All ConcernsDear Team,As part of our 14th August celebration on Wednesday, we kindly request all employees to follow the specified theme attire to make the event more vibrant and unified.Male employees:&nbsp;Please wear a white salwar kameez or a white shirt along with cotton pants/jeans.Female employees:&nbsp;Please follow the white and green attire theme.This dress code is mandatory&nbsp;for everyone, as we will be having a group photo shoot on Wednesday to commemorate the celebration.Your cooperation is highly appreciated to make this event memorable.Thank you and looking forward to your enthusiastic participation!Regards, &nbsp; &nbsp; &nbsp;&nbsp;Human Resources Department&nbsp;Docs Medical Billing LLC.&nbsp;email: hrd@docsmedicalbilling.comphone: +1 (559) 330-1413Website: www.docsmedicalbilling.com&nbsp;WARNING: CONFIDENTIALITY NOTICE – The information enclosed with this transmission are the private, confidential property of the sender, and the material is privileged communication intended solely for the individual indicated. If you are not the intended recipient, you are notified that any review, disclosure, copying, distribution, or the taking of any other action relevant to the contents of this transmission are strictly prohibited. If you have received this transmission in error, please notify us immediately at info@docsmedicalbilling.com&nbsp;',\n",
       " 'Subject: Display of Employee ID Cards & Cooperation with Security Guard\\nFrom: Human Resources <hrd@docsmedicalbilling.com>\\nDate: Fri, 8 Aug 2025 19:43:48 +0400\\n\\nBody:\\nBCC: All ConcernsDear Team,This is a reminder that all employees are required to wear their employee ID cards visibly&nbsp;while on company premises at all times. This is a standard security protocol and is essential for ensuring a safe and secure work environment for everyone.Please cooperate fully if security guard asks to see your employee ID. It is part of their official job responsibilities&nbsp;to verify identification, and they are acting in the interest of everyone’s safety.We want to emphasize that no form of disrespect or misconduct towards the security staff will be tolerated under any circumstances. Everyone deserves to be treated with professionalism and courtesy, regardless of their role.Let’s work together to maintain a respectful and secure workplace.Thank you for your cooperation!Regards, &nbsp; &nbsp; &nbsp; &nbsp;&nbsp;Human Resources Department&nbsp;Docs Medical Billing LLC.&nbsp;email: hrd@docsmedicalbilling.comphone: +1 (559) 330-1413Website: www.docsmedicalbilling.com&nbsp;WARNING: CONFIDENTIALITY NOTICE – The information enclosed with this transmission are the private, confidential property of the sender, and the material is privileged communication intended solely for the individual indicated. If you are not the intended recipient, you are notified that any review, disclosure, copying, distribution, or the taking of any other action relevant to the contents of this transmission are strictly prohibited. If you have received this transmission in error, please notify us immediately at info@docsmedicalbilling.com&nbsp;',\n",
       " 'Subject: Strict Adherence to Dress Code Policy\\nFrom: Human Resources <hrd@docsmedicalbilling.com>\\nDate: Thu, 7 Aug 2025 21:44:35 +0400\\n\\nBody:\\nBCC: All ConcernsDear Team,Hope you are doing well.This is a reminder to all employees to strictly adhere to the company’s dress code policy. While we have allowed certain relaxations in the past, please note that effective Monday, 11 August 2025, any breach of the dress code policy will result in a penalty of Rs 250.Note:&nbsp;No exceptions will be made regarding this policy.If you have any questions or require clarity about the dress code policy, you are encouraged to visit the HR department for a detailed explanation.Thank you for your cooperation and understanding!Regards, &nbsp; &nbsp; &nbsp;&nbsp;Human Resources Department&nbsp;Docs Medical Billing LLC.&nbsp;email: hrd@docsmedicalbilling.comphone: +1 (559) 330-1413Website: www.docsmedicalbilling.com&nbsp;WARNING: CONFIDENTIALITY NOTICE – The information enclosed with this transmission are the private, confidential property of the sender, and the material is privileged communication intended solely for the individual indicated. If you are not the intended recipient, you are notified that any review, disclosure, copying, distribution, or the taking of any other action relevant to the contents of this transmission are strictly prohibited. If you have received this transmission in error, please notify us immediately at info@docsmedicalbilling.com&nbsp;']"
      ]
     },
     "execution_count": 37,
     "metadata": {},
     "output_type": "execute_result"
    }
   ],
   "source": [
    "emails_list[:3]"
   ]
  },
  {
   "cell_type": "code",
   "execution_count": 38,
   "id": "eb59856a",
   "metadata": {},
   "outputs": [
    {
     "name": "stdout",
     "output_type": "stream",
     "text": [
      "{\n",
      "\"concern\": \"N\",\n",
      "\"category\": \"non-essential\",\n",
      "\"urgency_level\": 1,\n",
      "\"requires_attention\": \"N\"\n",
      "}\n",
      "{\n",
      "\"concern\": \"N\",\n",
      "\"category\": \"operational\",\n",
      "\"urgency_level\": 2,\n",
      "\"requires_attention\": \"N\"\n",
      "}\n",
      "{\n",
      "  \"concern\": \"N\",\n",
      "  \"category\": \"policy\",\n",
      "  \"urgency_level\": 3,\n",
      "  \"requires_attention\": \"N\"\n",
      "}\n",
      "{\n",
      "\"concern\": \"N\",\n",
      "\"category\": \"non-urgent_operations\",\n",
      "\"urgency_level\": 1,\n",
      "\"requires_attention\": \"N\"\n",
      "}\n",
      "{\n",
      "\"concern\": \"N\",\n",
      "\"category\": \"other\",\n",
      "\"urgency_level\": 1,\n",
      "\"requires_attention\": \"N\"\n",
      "}\n"
     ]
    }
   ],
   "source": [
    "for email in emails_list:\n",
    "    result = chain.invoke({\"email\": email})\n",
    "    print(result)"
   ]
  },
  {
   "cell_type": "code",
   "execution_count": 40,
   "id": "be6834a8",
   "metadata": {},
   "outputs": [
    {
     "name": "stdout",
     "output_type": "stream",
     "text": [
      "Subject: Strict Adherence to Dress Code Policy\n",
      "From: Human Resources <hrd@docsmedicalbilling.com>\n",
      "Date: Thu, 7 Aug 2025 21:44:35 +0400\n",
      "\n",
      "Body:\n",
      "BCC: All ConcernsDear Team,Hope you are doing well.This is a reminder to all employees to strictly adhere to the company’s dress code policy. While we have allowed certain relaxations in the past, please note that effective Monday, 11 August 2025, any breach of the dress code policy will result in a penalty of Rs 250.Note:&nbsp;No exceptions will be made regarding this policy.If you have any questions or require clarity about the dress code policy, you are encouraged to visit the HR department for a detailed explanation.Thank you for your cooperation and understanding!Regards, &nbsp; &nbsp; &nbsp;&nbsp;Human Resources Department&nbsp;Docs Medical Billing LLC.&nbsp;email: hrd@docsmedicalbilling.comphone: +1 (559) 330-1413Website: www.docsmedicalbilling.com&nbsp;WARNING: CONFIDENTIALITY NOTICE – The information enclosed with this transmission are the private, confidential property of the sender, and the material is privileged communication intended solely for the individual indicated. If you are not the intended recipient, you are notified that any review, disclosure, copying, distribution, or the taking of any other action relevant to the contents of this transmission are strictly prohibited. If you have received this transmission in error, please notify us immediately at info@docsmedicalbilling.com&nbsp;\n"
     ]
    }
   ],
   "source": [
    "print(emails_list[2])"
   ]
  },
  {
   "cell_type": "code",
   "execution_count": null,
   "id": "6b1f5167",
   "metadata": {},
   "outputs": [],
   "source": []
  }
 ],
 "metadata": {
  "kernelspec": {
   "display_name": ".venv",
   "language": "python",
   "name": "python3"
  },
  "language_info": {
   "codemirror_mode": {
    "name": "ipython",
    "version": 3
   },
   "file_extension": ".py",
   "mimetype": "text/x-python",
   "name": "python",
   "nbconvert_exporter": "python",
   "pygments_lexer": "ipython3",
   "version": "3.13.5"
  }
 },
 "nbformat": 4,
 "nbformat_minor": 5
}
