{
 "cells": [
  {
   "cell_type": "code",
   "execution_count": null,
   "id": "dba42888",
   "metadata": {},
   "outputs": [
    {
     "data": {
      "text/plain": [
       "True"
      ]
     },
     "execution_count": 4,
     "metadata": {},
     "output_type": "execute_result"
    }
   ],
   "source": [
    "import email\n",
    "import imaplib\n",
    "import os\n",
    "import re\n",
    "from email.header import decode_header\n",
    "\n",
    "from dotenv import load_dotenv\n",
    "\n",
    "load_dotenv()"
   ]
  },
  {
   "cell_type": "code",
   "execution_count": 6,
   "id": "12184d1d",
   "metadata": {},
   "outputs": [
    {
     "data": {
      "text/plain": [
       "('OK', [b'8'])"
      ]
     },
     "execution_count": 6,
     "metadata": {},
     "output_type": "execute_result"
    }
   ],
   "source": [
    "mail = imaplib.IMAP4_SSL(os.getenv(\"IMAP_SERVER\"))\n",
    "mail.login((os.getenv(\"EMAIL_ACCOUNT\")), os.getenv(\"PASSWORD\"))\n",
    "mail.select(\"inbox\")"
   ]
  },
  {
   "cell_type": "code",
   "execution_count": 7,
   "id": "f3e99287",
   "metadata": {},
   "outputs": [
    {
     "name": "stdout",
     "output_type": "stream",
     "text": [
      "From: support@docsmedicalbilling.com\n",
      "Subject: Welcome to Docs Medical Billing\n",
      "==================================================\n",
      "From: welcome@zoho.com\n",
      "Subject: Access from anywhere, anytime!\n",
      "==================================================\n",
      "From: systemgenerated@mailer.zohocliq.com\n",
      "Subject: Cliq: Knock, Knock! You've got an unread chat.\n",
      "==================================================\n",
      "From: huggingface <website@huggingface.co>\n",
      "Subject: [Hugging Face] Click this link to confirm your email address\n",
      "==================================================\n",
      "From: Human Resources <hrd@docsmedicalbilling.com>\n",
      "Subject: Segregation of Monthly Fuel Entitlement\n",
      "==================================================\n",
      "From: Human Resources <hrd@docsmedicalbilling.com>\n",
      "Subject: Strict Adherence to Dress Code Policy\n",
      "==================================================\n",
      "From: Human Resources <hrd@docsmedicalbilling.com>\n",
      "Subject: Display of Employee ID Cards & Cooperation with Security Guard\n",
      "==================================================\n",
      "From: Human Resources <hrd@docsmedicalbilling.com>\n",
      "Subject: Dress Code for 14th August Celebration\n",
      "==================================================\n"
     ]
    }
   ],
   "source": [
    "status, messages = mail.search(None, \"ALL\")\n",
    "for num in messages[0].split():\n",
    "    status, data = mail.fetch(num, \"(RFC822)\")\n",
    "    raw_email = data[0][1]\n",
    "    msg = email.message_from_bytes(raw_email)\n",
    "    print(\"From:\", msg[\"From\"])\n",
    "    print(\"Subject:\", msg[\"Subject\"])\n",
    "    print(\"=\"*50)"
   ]
  },
  {
   "cell_type": "code",
   "execution_count": null,
   "id": "54385eec",
   "metadata": {},
   "outputs": [
    {
     "name": "stdout",
     "output_type": "stream",
     "text": [
      "--- EMAIL 1 ---\n",
      "Subject: Dress Code for 14th August Celebration\n",
      "From: Human Resources <hrd@docsmedicalbilling.com>\n",
      "Date: Tue, 12 Aug 2025 01:46:05 +0400\n",
      "\n",
      "Body:\n",
      "BCC: All ConcernsDear Team,As part of our 14th August celebration on Wednesday, we kindly request all employees to follow the specified theme attire to make the event more vibrant and unified.Male employees:&nbsp;Please wear a white salwar kameez or a white shirt along with cotton pants/jeans.Female employees:&nbsp;Please follow the white and green attire theme.This dress code is mandatory&nbsp;for everyone, as we will be having a group photo shoot on Wednesday to commemorate the celebration.Your cooperation is highly appreciated to make this event memorable.Thank you and looking forward to your enthusiastic participation!Regards, &nbsp; &nbsp; &nbsp;&nbsp;Human Resources Department&nbsp;Docs Medical Billing LLC.&nbsp;email: hrd@docsmedicalbilling.comphone: +1 (559) 330-1413Website: www.docsmedicalbilling.com&nbsp;WARNING: CONFIDENTIALITY NOTICE – The information enclosed with this transmission are the private, confidential property of the sender, and the material is privileged communication intended solely for the individual indicated. If you are not the intended recipient, you are notified that any review, disclosure, copying, distribution, or the taking of any other action relevant to the contents of this transmission are strictly prohibited. If you have received this transmission in error, please notify us immediately at info@docsmedicalbilling.com&nbsp;\n",
      "--------------------------------------------------\n",
      "--- EMAIL 2 ---\n",
      "Subject: Display of Employee ID Cards & Cooperation with Security Guard\n",
      "From: Human Resources <hrd@docsmedicalbilling.com>\n",
      "Date: Fri, 8 Aug 2025 19:43:48 +0400\n",
      "\n",
      "Body:\n",
      "BCC: All ConcernsDear Team,This is a reminder that all employees are required to wear their employee ID cards visibly&nbsp;while on company premises at all times. This is a standard security protocol and is essential for ensuring a safe and secure work environment for everyone.Please cooperate fully if security guard asks to see your employee ID. It is part of their official job responsibilities&nbsp;to verify identification, and they are acting in the interest of everyone’s safety.We want to emphasize that no form of disrespect or misconduct towards the security staff will be tolerated under any circumstances. Everyone deserves to be treated with professionalism and courtesy, regardless of their role.Let’s work together to maintain a respectful and secure workplace.Thank you for your cooperation!Regards, &nbsp; &nbsp; &nbsp; &nbsp;&nbsp;Human Resources Department&nbsp;Docs Medical Billing LLC.&nbsp;email: hrd@docsmedicalbilling.comphone: +1 (559) 330-1413Website: www.docsmedicalbilling.com&nbsp;WARNING: CONFIDENTIALITY NOTICE – The information enclosed with this transmission are the private, confidential property of the sender, and the material is privileged communication intended solely for the individual indicated. If you are not the intended recipient, you are notified that any review, disclosure, copying, distribution, or the taking of any other action relevant to the contents of this transmission are strictly prohibited. If you have received this transmission in error, please notify us immediately at info@docsmedicalbilling.com&nbsp;\n",
      "--------------------------------------------------\n",
      "--- EMAIL 3 ---\n",
      "Subject: Strict Adherence to Dress Code Policy\n",
      "From: Human Resources <hrd@docsmedicalbilling.com>\n",
      "Date: Thu, 7 Aug 2025 21:44:35 +0400\n",
      "\n",
      "Body:\n",
      "BCC: All ConcernsDear Team,Hope you are doing well.This is a reminder to all employees to strictly adhere to the company’s dress code policy. While we have allowed certain relaxations in the past, please note that effective Monday, 11 August 2025, any breach of the dress code policy will result in a penalty of Rs 250.Note:&nbsp;No exceptions will be made regarding this policy.If you have any questions or require clarity about the dress code policy, you are encouraged to visit the HR department for a detailed explanation.Thank you for your cooperation and understanding!Regards, &nbsp; &nbsp; &nbsp;&nbsp;Human Resources Department&nbsp;Docs Medical Billing LLC.&nbsp;email: hrd@docsmedicalbilling.comphone: +1 (559) 330-1413Website: www.docsmedicalbilling.com&nbsp;WARNING: CONFIDENTIALITY NOTICE – The information enclosed with this transmission are the private, confidential property of the sender, and the material is privileged communication intended solely for the individual indicated. If you are not the intended recipient, you are notified that any review, disclosure, copying, distribution, or the taking of any other action relevant to the contents of this transmission are strictly prohibited. If you have received this transmission in error, please notify us immediately at info@docsmedicalbilling.com&nbsp;\n",
      "--------------------------------------------------\n",
      "--- EMAIL 4 ---\n",
      "Subject: Segregation of Monthly Fuel Entitlement\n",
      "From: Human Resources <hrd@docsmedicalbilling.com>\n",
      "Date: Fri, 1 Aug 2025 00:54:36 +0500\n",
      "\n",
      "Body:\n",
      "BCC: All ConcernsDear All,Hope this email finds you well.To ensure better management and transparency of monthly fuel allocations, we are introducing a new structure for the segregation of fuel entitlements, effective from August 01 2025.Your monthly fuel entitlement will now be divided into the following three slabs:Sr. NoFuel Entitlement (Litres)First SlabSecond SlabThird Slab12510105230101010340151510450201515570302020First Slab:&nbsp;For the first 10 days of the month.Second Slab:&nbsp;From the 11th to the 20th of the month.Third Slab:&nbsp;From the 21st to the end of the month.This change aims to provide a more structured approach to fuel usage throughout the month.Note:&nbsp;Any unused fuel from one slab will carry over to the next slab. We encourage everyone to manage their fuel consumption accordingly.In case of any questions or require further clarification, feel free to reach out to the Human Resources department.Thank you for your cooperation!Regards,Human Resources Department&nbsp;Docs Medical Billing LLC.&nbsp;email: hrd@docsmedicalbilling.comphone: +1 (559) 330-1413Website: www.docsmedicalbilling.com&nbsp;WARNING: CONFIDENTIALITY NOTICE – The information enclosed with this transmission are the private, confidential property of the sender, and the material is privileged communication intended solely for the individual indicated. If you are not the intended recipient, you are notified that any review, disclosure, copying, distribution, or the taking of any other action relevant to the contents of this transmission are strictly prohibited. If you have received this transmission in error, please notify us immediately at info@docsmedicalbilling.com&nbsp;\n",
      "--------------------------------------------------\n",
      "--- EMAIL 5 ---\n",
      "Subject: [Hugging Face] Click this link to confirm your email address\n",
      "From: huggingface <website@huggingface.co>\n",
      "Date: Thu, 24 Jul 2025 12:14:09 +0000\n",
      "\n",
      "Body:\n",
      "html { font-family: serif; font-size: 14px; } img { max-width: 100%; } blockquote { border-left: 3px solid #ccc; margin: 0 0; padding: 0 10px; } Confirm your email address by clicking on this link: https://huggingface.co/email_confirmation/KkUcrLujyZtgiwCunJwAfVpSMkSN If you didn't create a Hugging Face account, you can ignore this email. Hugging Face: The AI community building the future.\n",
      "--------------------------------------------------\n"
     ]
    }
   ],
   "source": [
    "def clean_html(raw_html):\n",
    "    \"\"\"Remove HTML tags & extra spaces.\"\"\"\n",
    "    clean_text = re.sub(r'<[^>]+>', '', raw_html)\n",
    "    clean_text = re.sub(r'\\s+', ' ', clean_text).strip()\n",
    "    return clean_text\n",
    "\n",
    "def connect_mailbox():\n",
    "    \"\"\"Connect to Zoho IMAP inbox.\"\"\"\n",
    "    mail = imaplib.IMAP4_SSL(os.getenv(\"IMAP_SERVER\"))\n",
    "    mail.login(os.getenv(\"EMAIL_ACCOUNT\"), os.getenv(\"PASSWORD\"))\n",
    "    mail.select(\"inbox\")\n",
    "    return mail\n",
    "\n",
    "def fetch_latest_emails(n=10):\n",
    "    \"\"\"Fetch latest N emails as list of strings.\"\"\"\n",
    "    try:\n",
    "        mail = connect_mailbox()\n",
    "        status, email_ids = mail.search(None, \"ALL\")\n",
    "    except imaplib.IMAP4.abort:\n",
    "        print(\"[INFO] Reconnecting due to server logout...\")\n",
    "        mail = connect_mailbox()\n",
    "        status, email_ids = mail.search(None, \"ALL\")\n",
    "\n",
    "    email_ids = email_ids[0].split()[-n:][::-1]  # latest first\n",
    "\n",
    "    emails_list = []\n",
    "\n",
    "    for num in email_ids:\n",
    "        try:\n",
    "            status, msg_data = mail.fetch(num, \"(RFC822)\")\n",
    "            if status != \"OK\":\n",
    "                continue\n",
    "\n",
    "            msg = email.message_from_bytes(msg_data[0][1])\n",
    "\n",
    "            # Decode subject\n",
    "            subject, encoding = decode_header(msg[\"Subject\"])[0]\n",
    "            if isinstance(subject, bytes):\n",
    "                subject = subject.decode(encoding or \"utf-8\", errors=\"ignore\")\n",
    "\n",
    "            # From\n",
    "            from_ = msg.get(\"From\", \"\")\n",
    "\n",
    "            # Date\n",
    "            date_ = msg.get(\"Date\", \"\")\n",
    "\n",
    "            # Body\n",
    "            body = \"\"\n",
    "            if msg.is_multipart():\n",
    "                for part in msg.walk():\n",
    "                    content_type = part.get_content_type()\n",
    "                    content_dispo = str(part.get(\"Content-Disposition\"))\n",
    "                    if content_type == \"text/plain\" and \"attachment\" not in content_dispo:\n",
    "                        body += part.get_payload(decode=True).decode(errors=\"ignore\")\n",
    "                    elif content_type == \"text/html\" and not body:\n",
    "                        html_content = part.get_payload(decode=True).decode(errors=\"ignore\")\n",
    "                        body += clean_html(html_content)\n",
    "            else:\n",
    "                if msg.get_content_type() == \"text/plain\":\n",
    "                    body = msg.get_payload(decode=True).decode(errors=\"ignore\")\n",
    "                elif msg.get_content_type() == \"text/html\":\n",
    "                    html_content = msg.get_payload(decode=True).decode(errors=\"ignore\")\n",
    "                    body = clean_html(html_content)\n",
    "\n",
    "            # Combine into one string\n",
    "            full_email = f\"Subject: {subject}\\nFrom: {from_}\\nDate: {date_}\\n\\nBody:\\n{body}\"\n",
    "            emails_list.append(full_email)\n",
    "\n",
    "        except Exception as e:\n",
    "            print(f\"[ERROR] Could not process email {num}: {e}\")\n",
    "\n",
    "    mail.close()\n",
    "    mail.logout()\n",
    "    return emails_list\n",
    "\n",
    "\n",
    "latest_emails = fetch_latest_emails(n=5)  # Get latest 5 emails\n",
    "for i, em in enumerate(latest_emails, 1):\n",
    "    print(f\"--- EMAIL {i} ---\\n{em}\\n{'-'*50}\")"
   ]
  },
  {
   "cell_type": "code",
   "execution_count": 21,
   "id": "b9619297",
   "metadata": {},
   "outputs": [
    {
     "name": "stdout",
     "output_type": "stream",
     "text": [
      "Subject: Dress Code for 14th August Celebration\n",
      "From: Human Resources <hrd@docsmedicalbilling.com>\n",
      "Date: Tue, 12 Aug 2025 01:46:05 +0400\n",
      "\n",
      "Body:\n",
      "BCC: All ConcernsDear Team,As part of our 14th August celebration on Wednesday, we kindly request all employees to follow the specified theme attire to make the event more vibrant and unified.Male employees:&nbsp;Please wear a white salwar kameez or a white shirt along with cotton pants/jeans.Female employees:&nbsp;Please follow the white and green attire theme.This dress code is mandatory&nbsp;for everyone, as we will be having a group photo shoot on Wednesday to commemorate the celebration.Your cooperation is highly appreciated to make this event memorable.Thank you and looking forward to your enthusiastic participation!Regards, &nbsp; &nbsp; &nbsp;&nbsp;Human Resources Department&nbsp;Docs Medical Billing LLC.&nbsp;email: hrd@docsmedicalbilling.comphone: +1 (559) 330-1413Website: www.docsmedicalbilling.com&nbsp;WARNING: CONFIDENTIALITY NOTICE – The information enclosed with this transmission are the private, confidential property of the sender, and the material is privileged communication intended solely for the individual indicated. If you are not the intended recipient, you are notified that any review, disclosure, copying, distribution, or the taking of any other action relevant to the contents of this transmission are strictly prohibited. If you have received this transmission in error, please notify us immediately at info@docsmedicalbilling.com&nbsp;\n",
      "==================================================\n",
      "Subject: Display of Employee ID Cards & Cooperation with Security Guard\n",
      "From: Human Resources <hrd@docsmedicalbilling.com>\n",
      "Date: Fri, 8 Aug 2025 19:43:48 +0400\n",
      "\n",
      "Body:\n",
      "BCC: All ConcernsDear Team,This is a reminder that all employees are required to wear their employee ID cards visibly&nbsp;while on company premises at all times. This is a standard security protocol and is essential for ensuring a safe and secure work environment for everyone.Please cooperate fully if security guard asks to see your employee ID. It is part of their official job responsibilities&nbsp;to verify identification, and they are acting in the interest of everyone’s safety.We want to emphasize that no form of disrespect or misconduct towards the security staff will be tolerated under any circumstances. Everyone deserves to be treated with professionalism and courtesy, regardless of their role.Let’s work together to maintain a respectful and secure workplace.Thank you for your cooperation!Regards, &nbsp; &nbsp; &nbsp; &nbsp;&nbsp;Human Resources Department&nbsp;Docs Medical Billing LLC.&nbsp;email: hrd@docsmedicalbilling.comphone: +1 (559) 330-1413Website: www.docsmedicalbilling.com&nbsp;WARNING: CONFIDENTIALITY NOTICE – The information enclosed with this transmission are the private, confidential property of the sender, and the material is privileged communication intended solely for the individual indicated. If you are not the intended recipient, you are notified that any review, disclosure, copying, distribution, or the taking of any other action relevant to the contents of this transmission are strictly prohibited. If you have received this transmission in error, please notify us immediately at info@docsmedicalbilling.com&nbsp;\n",
      "==================================================\n",
      "Subject: Strict Adherence to Dress Code Policy\n",
      "From: Human Resources <hrd@docsmedicalbilling.com>\n",
      "Date: Thu, 7 Aug 2025 21:44:35 +0400\n",
      "\n",
      "Body:\n",
      "BCC: All ConcernsDear Team,Hope you are doing well.This is a reminder to all employees to strictly adhere to the company’s dress code policy. While we have allowed certain relaxations in the past, please note that effective Monday, 11 August 2025, any breach of the dress code policy will result in a penalty of Rs 250.Note:&nbsp;No exceptions will be made regarding this policy.If you have any questions or require clarity about the dress code policy, you are encouraged to visit the HR department for a detailed explanation.Thank you for your cooperation and understanding!Regards, &nbsp; &nbsp; &nbsp;&nbsp;Human Resources Department&nbsp;Docs Medical Billing LLC.&nbsp;email: hrd@docsmedicalbilling.comphone: +1 (559) 330-1413Website: www.docsmedicalbilling.com&nbsp;WARNING: CONFIDENTIALITY NOTICE – The information enclosed with this transmission are the private, confidential property of the sender, and the material is privileged communication intended solely for the individual indicated. If you are not the intended recipient, you are notified that any review, disclosure, copying, distribution, or the taking of any other action relevant to the contents of this transmission are strictly prohibited. If you have received this transmission in error, please notify us immediately at info@docsmedicalbilling.com&nbsp;\n",
      "==================================================\n",
      "Subject: Segregation of Monthly Fuel Entitlement\n",
      "From: Human Resources <hrd@docsmedicalbilling.com>\n",
      "Date: Fri, 1 Aug 2025 00:54:36 +0500\n",
      "\n",
      "Body:\n",
      "BCC: All ConcernsDear All,Hope this email finds you well.To ensure better management and transparency of monthly fuel allocations, we are introducing a new structure for the segregation of fuel entitlements, effective from August 01 2025.Your monthly fuel entitlement will now be divided into the following three slabs:Sr. NoFuel Entitlement (Litres)First SlabSecond SlabThird Slab12510105230101010340151510450201515570302020First Slab:&nbsp;For the first 10 days of the month.Second Slab:&nbsp;From the 11th to the 20th of the month.Third Slab:&nbsp;From the 21st to the end of the month.This change aims to provide a more structured approach to fuel usage throughout the month.Note:&nbsp;Any unused fuel from one slab will carry over to the next slab. We encourage everyone to manage their fuel consumption accordingly.In case of any questions or require further clarification, feel free to reach out to the Human Resources department.Thank you for your cooperation!Regards,Human Resources Department&nbsp;Docs Medical Billing LLC.&nbsp;email: hrd@docsmedicalbilling.comphone: +1 (559) 330-1413Website: www.docsmedicalbilling.com&nbsp;WARNING: CONFIDENTIALITY NOTICE – The information enclosed with this transmission are the private, confidential property of the sender, and the material is privileged communication intended solely for the individual indicated. If you are not the intended recipient, you are notified that any review, disclosure, copying, distribution, or the taking of any other action relevant to the contents of this transmission are strictly prohibited. If you have received this transmission in error, please notify us immediately at info@docsmedicalbilling.com&nbsp;\n",
      "==================================================\n",
      "Subject: [Hugging Face] Click this link to confirm your email address\n",
      "From: huggingface <website@huggingface.co>\n",
      "Date: Thu, 24 Jul 2025 12:14:09 +0000\n",
      "\n",
      "Body:\n",
      "html { font-family: serif; font-size: 14px; } img { max-width: 100%; } blockquote { border-left: 3px solid #ccc; margin: 0 0; padding: 0 10px; } Confirm your email address by clicking on this link: https://huggingface.co/email_confirmation/KkUcrLujyZtgiwCunJwAfVpSMkSN If you didn't create a Hugging Face account, you can ignore this email. Hugging Face: The AI community building the future.\n",
      "==================================================\n"
     ]
    }
   ],
   "source": [
    "for e in latest_emails:\n",
    "    print(e)\n",
    "    print(\"=\"*50)"
   ]
  },
  {
   "cell_type": "code",
   "execution_count": 22,
   "id": "eae2c523",
   "metadata": {},
   "outputs": [],
   "source": [
    "import json\n",
    "with open(\"emails.json\", \"w\", encoding=\"utf-8\") as f:\n",
    "    json.dump(latest_emails, f, ensure_ascii=False, indent=2)"
   ]
  },
  {
   "cell_type": "code",
   "execution_count": null,
   "id": "3778471e",
   "metadata": {},
   "outputs": [],
   "source": []
  }
 ],
 "metadata": {
  "kernelspec": {
   "display_name": ".venv",
   "language": "python",
   "name": "python3"
  },
  "language_info": {
   "codemirror_mode": {
    "name": "ipython",
    "version": 3
   },
   "file_extension": ".py",
   "mimetype": "text/x-python",
   "name": "python",
   "nbconvert_exporter": "python",
   "pygments_lexer": "ipython3",
   "version": "3.13.5"
  }
 },
 "nbformat": 4,
 "nbformat_minor": 5
}
